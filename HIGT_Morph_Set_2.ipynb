{
  "nbformat": 4,
  "nbformat_minor": 0,
  "metadata": {
    "colab": {
      "provenance": [],
      "private_outputs": true,
      "collapsed_sections": [],
      "include_colab_link": true
    },
    "kernelspec": {
      "name": "python3",
      "display_name": "Python 3"
    },
    "language_info": {
      "name": "python"
    },
    "gpuClass": "standard",
    "accelerator": "TPU"
  },
  "cells": [
    {
      "cell_type": "markdown",
      "metadata": {
        "id": "view-in-github",
        "colab_type": "text"
      },
      "source": [
        "<a href=\"https://colab.research.google.com/github/ahmadtv/instabot-trader/blob/master/HIGT_Morph_Set_2.ipynb\" target=\"_parent\"><img src=\"https://colab.research.google.com/assets/colab-badge.svg\" alt=\"Open In Colab\"/></a>"
      ]
    },
    {
      "cell_type": "code",
      "execution_count": null,
      "metadata": {
        "id": "1rMdGE8uZiMf"
      },
      "outputs": [],
      "source": [
        "#@title Step 1: Load pre-requisites\n",
        "!git clone https://github.com/jankovicsandras/autoimagemorph\n",
        "%cd autoimagemorph\n",
        "!pip install scipy numpy matplotlib opencv-python\n",
        "\n",
        "import os"
      ]
    },
    {
      "cell_type": "markdown",
      "source": [
        "Check this from here https://stackoverflow.com/questions/71000120/colab-0-unimplemented-dnn-library-is-not-found"
      ],
      "metadata": {
        "id": "B0pUW6TdGdcE"
      }
    },
    {
      "cell_type": "code",
      "source": [
        "!python autoimagemorph.py -h"
      ],
      "metadata": {
        "id": "dFE5U4UYRnn7"
      },
      "execution_count": null,
      "outputs": []
    },
    {
      "cell_type": "code",
      "source": [
        "!python autoimagemorph.py -inframes \"['M0.png','M72.png']\" -outprefix f -framerate 72"
      ],
      "metadata": {
        "id": "y16Q8YPnGfgW"
      },
      "execution_count": null,
      "outputs": []
    },
    {
      "cell_type": "markdown",
      "source": [
        "Create a zip file:\n",
        "\n"
      ],
      "metadata": {
        "id": "fpauqP1QS0k9"
      }
    },
    {
      "cell_type": "code",
      "source": [
        "!zip -r /content/autoimagemorph.zip /content/autoimagemorph\n",
        "# change sample_data.zip to your desired download name Ex: nothing.zip\n",
        "# change sample_data to your desired download folder name Ex: ner_data "
      ],
      "metadata": {
        "id": "ueO9fvBWS3mj"
      },
      "execution_count": null,
      "outputs": []
    },
    {
      "cell_type": "markdown",
      "source": [
        "Downloded that zip file:\n",
        "\n"
      ],
      "metadata": {
        "id": "7ROfDe_3S8TE"
      }
    },
    {
      "cell_type": "code",
      "source": [
        "from google.colab import files\n",
        "files.download(\"/content/autoimagemorph.zip\")"
      ],
      "metadata": {
        "id": "pVfRy9ySS-Gq"
      },
      "execution_count": null,
      "outputs": []
    }
  ]
}